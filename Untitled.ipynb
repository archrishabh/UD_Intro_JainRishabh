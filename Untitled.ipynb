{
 "cells": [
  {
   "cell_type": "code",
   "execution_count": 1,
   "id": "501d73d1",
   "metadata": {},
   "outputs": [
    {
     "name": "stdout",
     "output_type": "stream",
     "text": [
      "Requirement already satisfied: selenium in c:\\users\\rishabh\\anaconda3\\envs\\ud_intro_jainrishabh\\lib\\site-packages (4.13.0)\n",
      "Requirement already satisfied: urllib3[socks]<3,>=1.26 in c:\\users\\rishabh\\anaconda3\\envs\\ud_intro_jainrishabh\\lib\\site-packages (from selenium) (1.26.16)\n",
      "Requirement already satisfied: trio~=0.17 in c:\\users\\rishabh\\anaconda3\\envs\\ud_intro_jainrishabh\\lib\\site-packages (from selenium) (0.22.2)\n",
      "Requirement already satisfied: trio-websocket~=0.9 in c:\\users\\rishabh\\anaconda3\\envs\\ud_intro_jainrishabh\\lib\\site-packages (from selenium) (0.11.1)\n",
      "Requirement already satisfied: certifi>=2021.10.8 in c:\\users\\rishabh\\anaconda3\\envs\\ud_intro_jainrishabh\\lib\\site-packages (from selenium) (2023.7.22)\n",
      "Requirement already satisfied: attrs>=20.1.0 in c:\\users\\rishabh\\anaconda3\\envs\\ud_intro_jainrishabh\\lib\\site-packages (from trio~=0.17->selenium) (23.1.0)\n",
      "Requirement already satisfied: sortedcontainers in c:\\users\\rishabh\\anaconda3\\envs\\ud_intro_jainrishabh\\lib\\site-packages (from trio~=0.17->selenium) (2.4.0)\n",
      "Requirement already satisfied: idna in c:\\users\\rishabh\\anaconda3\\envs\\ud_intro_jainrishabh\\lib\\site-packages (from trio~=0.17->selenium) (3.4)\n",
      "Requirement already satisfied: outcome in c:\\users\\rishabh\\anaconda3\\envs\\ud_intro_jainrishabh\\lib\\site-packages (from trio~=0.17->selenium) (1.2.0)\n",
      "Requirement already satisfied: sniffio in c:\\users\\rishabh\\anaconda3\\envs\\ud_intro_jainrishabh\\lib\\site-packages (from trio~=0.17->selenium) (1.2.0)\n",
      "Requirement already satisfied: cffi>=1.14 in c:\\users\\rishabh\\anaconda3\\envs\\ud_intro_jainrishabh\\lib\\site-packages (from trio~=0.17->selenium) (1.15.1)\n",
      "Requirement already satisfied: exceptiongroup>=1.0.0rc9 in c:\\users\\rishabh\\anaconda3\\envs\\ud_intro_jainrishabh\\lib\\site-packages (from trio~=0.17->selenium) (1.1.3)\n",
      "Requirement already satisfied: wsproto>=0.14 in c:\\users\\rishabh\\anaconda3\\envs\\ud_intro_jainrishabh\\lib\\site-packages (from trio-websocket~=0.9->selenium) (1.2.0)\n",
      "Requirement already satisfied: PySocks!=1.5.7,<2.0,>=1.5.6 in c:\\users\\rishabh\\anaconda3\\envs\\ud_intro_jainrishabh\\lib\\site-packages (from urllib3[socks]<3,>=1.26->selenium) (1.7.1)\n",
      "Requirement already satisfied: pycparser in c:\\users\\rishabh\\anaconda3\\envs\\ud_intro_jainrishabh\\lib\\site-packages (from cffi>=1.14->trio~=0.17->selenium) (2.21)\n",
      "Requirement already satisfied: h11<1,>=0.9.0 in c:\\users\\rishabh\\anaconda3\\envs\\ud_intro_jainrishabh\\lib\\site-packages (from wsproto>=0.14->trio-websocket~=0.9->selenium) (0.14.0)\n",
      "Note: you may need to restart the kernel to use updated packages.\n"
     ]
    }
   ],
   "source": [
    "pip install selenium"
   ]
  },
  {
   "cell_type": "code",
   "execution_count": 2,
   "id": "f91cce89",
   "metadata": {},
   "outputs": [],
   "source": [
    "# Importing the libraries\n",
    "import selenium \n",
    "from selenium import webdriver\n",
    "from selenium.webdriver.common.by import By\n",
    "from selenium.webdriver.common.keys import Keys\n",
    "from selenium.webdriver.support.ui import Select\n",
    "from selenium.webdriver.support.ui import WebDriverWait\n",
    "from selenium.webdriver.support import expected_conditions as EC\n",
    "from time import sleep"
   ]
  },
  {
   "cell_type": "code",
   "execution_count": 3,
   "id": "962f9b47",
   "metadata": {},
   "outputs": [],
   "source": [
    "url=\"https://www.goodreads.com/book/show/184588861-the-practical-handbook-of-library-architecture\""
   ]
  },
  {
   "cell_type": "code",
   "execution_count": 4,
   "id": "7b37da7a",
   "metadata": {},
   "outputs": [
    {
     "name": "stdout",
     "output_type": "stream",
     "text": [
      "The Routledge Companion to Artificial Intelligence in Architecture\n"
     ]
    }
   ],
   "source": [
    "driver = webdriver.Chrome()\n",
    "driver.get(url)\\\n",
    "\n",
    "#Create lists to store the data\n",
    "books_list = []\n",
    "author_list=[]\n",
    "link_list=[]\n",
    "pdf_list=[]\n",
    "\n",
    "#Step 1: identify search box\n",
    "search_query = driver.find_element(\"name\",\"q\")\n",
    "\n",
    "#Step 2: search a topic\n",
    "search_query.send_keys('artificial intelligence in architecture')\n",
    "search_query.send_keys(Keys.RETURN)\n",
    "#Delay (good practice)\n",
    "sleep(2)\n",
    "\n",
    "#Step 3: Find all the books\n",
    "books=driver.find_elements(\"class name\", \"tableList\")\n",
    "\n",
    "#Create loop to iterate on the book list in order to find each item\n",
    "for b in range(len(books)):\n",
    "    try:          \n",
    "        #Find title per book\n",
    "        title = books[b].find_element(\"class name\",\"bookTitle\").text\n",
    "        print(title)\n",
    "         \n",
    "         #Find the author\n",
    "        authors=books[b].find_element(\"class name\",\"authorName\").text\n",
    "        \n",
    "        #Find the link\n",
    "        link = books[b].find_element(\"link text\",title).get_attribute('href')\n",
    "         \n",
    "        #Add items to the existing lists\n",
    "        books_list.append(title)\n",
    "        author_list.append(authors)\n",
    "        link_list.append(link)\n",
    "        #Delay (good practice)\n",
    "        sleep(2)  \n",
    "        \n",
    "    except:\n",
    "        pass\n",
    "\n",
    "#Close the webpage\n",
    "driver.quit()"
   ]
  },
  {
   "cell_type": "code",
   "execution_count": 5,
   "id": "e14723ad",
   "metadata": {},
   "outputs": [
    {
     "name": "stdout",
     "output_type": "stream",
     "text": [
      "['The Routledge Companion to Artificial Intelligence in Architecture']\n"
     ]
    }
   ],
   "source": [
    "print(books_list)"
   ]
  },
  {
   "cell_type": "code",
   "execution_count": 6,
   "id": "fc1bfd58",
   "metadata": {},
   "outputs": [],
   "source": [
    "#Import the library\n",
    "import csv \n",
    "\n",
    "#combine the lists\n",
    "data=zip(books_list,author_list,link_list)\n",
    "\n",
    "#Write all the data to a csv\n",
    "with open('aidata.csv', 'w',newline='') as csvfile: \n",
    "    writer = csv.writer(csvfile) \n",
    "    for row in data:\n",
    "        writer.writerow(row)\n",
    "        \n",
    "#Write only links to a csv\n",
    "with open('onlylinks.csv', 'w',newline='') as csvfile: \n",
    "    writer = csv.writer(csvfile) \n",
    "    for link in link_list:\n",
    "        #print(row)\n",
    "        writer.writerow([link])"
   ]
  },
  {
   "cell_type": "code",
   "execution_count": 121,
   "id": "f00a4430",
   "metadata": {},
   "outputs": [
    {
     "ename": "NoSuchWindowException",
     "evalue": "Message: no such window: target window already closed\nfrom unknown error: web view not found\n  (Session info: chrome=117.0.5938.150)\nStacktrace:\n\tGetHandleVerifier [0x00007FF7D6A57D12+55474]\n\t(No symbol) [0x00007FF7D69C77C2]\n\t(No symbol) [0x00007FF7D687E0EB]\n\t(No symbol) [0x00007FF7D685E528]\n\t(No symbol) [0x00007FF7D68E3B77]\n\t(No symbol) [0x00007FF7D68F75BF]\n\t(No symbol) [0x00007FF7D68DEF33]\n\t(No symbol) [0x00007FF7D68B3D41]\n\t(No symbol) [0x00007FF7D68B4F84]\n\tGetHandleVerifier [0x00007FF7D6DBB762+3609346]\n\tGetHandleVerifier [0x00007FF7D6E11A80+3962400]\n\tGetHandleVerifier [0x00007FF7D6E09F0F+3930799]\n\tGetHandleVerifier [0x00007FF7D6AF3CA6+694342]\n\t(No symbol) [0x00007FF7D69D2218]\n\t(No symbol) [0x00007FF7D69CE484]\n\t(No symbol) [0x00007FF7D69CE5B2]\n\t(No symbol) [0x00007FF7D69BEE13]\n\tBaseThreadInitThunk [0x00007FF8F44B257D+29]\n\tRtlUserThreadStart [0x00007FF8F55CAA68+40]\n",
     "output_type": "error",
     "traceback": [
      "\u001b[1;31m---------------------------------------------------------------------------\u001b[0m",
      "\u001b[1;31mNoSuchWindowException\u001b[0m                     Traceback (most recent call last)",
      "Cell \u001b[1;32mIn[121], line 21\u001b[0m\n\u001b[0;32m     18\u001b[0m sleep(\u001b[38;5;241m2\u001b[39m)\n\u001b[0;32m     20\u001b[0m \u001b[38;5;66;03m#click on the pdf button\u001b[39;00m\n\u001b[1;32m---> 21\u001b[0m find_pdf\u001b[38;5;241m=\u001b[39mdriver\u001b[38;5;241m.\u001b[39mfind_element(\u001b[38;5;124m\"\u001b[39m\u001b[38;5;124mxpath\u001b[39m\u001b[38;5;124m\"\u001b[39m,\u001b[38;5;124m\"\u001b[39m\u001b[38;5;124m/html/body/div[2]/div[3]/div[1]/div[2]/div[2]/table/tbody/tr[1]/td[2]/div[3]/div\u001b[39m\u001b[38;5;124m\"\u001b[39m)\u001b[38;5;241m.\u001b[39mget_attribute(\u001b[38;5;124m'\u001b[39m\u001b[38;5;124mhref\u001b[39m\u001b[38;5;124m'\u001b[39m)\n\u001b[0;32m     22\u001b[0m \u001b[38;5;28mprint\u001b[39m(find_pdf)\n\u001b[0;32m     25\u001b[0m \u001b[38;5;66;03m##########\u001b[39;00m\n\u001b[0;32m     26\u001b[0m \n\u001b[0;32m     27\u001b[0m \n\u001b[0;32m     28\u001b[0m \n\u001b[0;32m     29\u001b[0m \u001b[38;5;66;03m#Check if pdf exists and then download\u001b[39;00m\n",
      "File \u001b[1;32m~\\anaconda3\\Lib\\site-packages\\selenium\\webdriver\\remote\\webdriver.py:738\u001b[0m, in \u001b[0;36mWebDriver.find_element\u001b[1;34m(self, by, value)\u001b[0m\n\u001b[0;32m    735\u001b[0m     by \u001b[38;5;241m=\u001b[39m By\u001b[38;5;241m.\u001b[39mCSS_SELECTOR\n\u001b[0;32m    736\u001b[0m     value \u001b[38;5;241m=\u001b[39m \u001b[38;5;124mf\u001b[39m\u001b[38;5;124m'\u001b[39m\u001b[38;5;124m[name=\u001b[39m\u001b[38;5;124m\"\u001b[39m\u001b[38;5;132;01m{\u001b[39;00mvalue\u001b[38;5;132;01m}\u001b[39;00m\u001b[38;5;124m\"\u001b[39m\u001b[38;5;124m]\u001b[39m\u001b[38;5;124m'\u001b[39m\n\u001b[1;32m--> 738\u001b[0m \u001b[38;5;28;01mreturn\u001b[39;00m \u001b[38;5;28mself\u001b[39m\u001b[38;5;241m.\u001b[39mexecute(Command\u001b[38;5;241m.\u001b[39mFIND_ELEMENT, {\u001b[38;5;124m\"\u001b[39m\u001b[38;5;124musing\u001b[39m\u001b[38;5;124m\"\u001b[39m: by, \u001b[38;5;124m\"\u001b[39m\u001b[38;5;124mvalue\u001b[39m\u001b[38;5;124m\"\u001b[39m: value})[\u001b[38;5;124m\"\u001b[39m\u001b[38;5;124mvalue\u001b[39m\u001b[38;5;124m\"\u001b[39m]\n",
      "File \u001b[1;32m~\\anaconda3\\Lib\\site-packages\\selenium\\webdriver\\remote\\webdriver.py:344\u001b[0m, in \u001b[0;36mWebDriver.execute\u001b[1;34m(self, driver_command, params)\u001b[0m\n\u001b[0;32m    342\u001b[0m response \u001b[38;5;241m=\u001b[39m \u001b[38;5;28mself\u001b[39m\u001b[38;5;241m.\u001b[39mcommand_executor\u001b[38;5;241m.\u001b[39mexecute(driver_command, params)\n\u001b[0;32m    343\u001b[0m \u001b[38;5;28;01mif\u001b[39;00m response:\n\u001b[1;32m--> 344\u001b[0m     \u001b[38;5;28mself\u001b[39m\u001b[38;5;241m.\u001b[39merror_handler\u001b[38;5;241m.\u001b[39mcheck_response(response)\n\u001b[0;32m    345\u001b[0m     response[\u001b[38;5;124m\"\u001b[39m\u001b[38;5;124mvalue\u001b[39m\u001b[38;5;124m\"\u001b[39m] \u001b[38;5;241m=\u001b[39m \u001b[38;5;28mself\u001b[39m\u001b[38;5;241m.\u001b[39m_unwrap_value(response\u001b[38;5;241m.\u001b[39mget(\u001b[38;5;124m\"\u001b[39m\u001b[38;5;124mvalue\u001b[39m\u001b[38;5;124m\"\u001b[39m, \u001b[38;5;28;01mNone\u001b[39;00m))\n\u001b[0;32m    346\u001b[0m     \u001b[38;5;28;01mreturn\u001b[39;00m response\n",
      "File \u001b[1;32m~\\anaconda3\\Lib\\site-packages\\selenium\\webdriver\\remote\\errorhandler.py:229\u001b[0m, in \u001b[0;36mErrorHandler.check_response\u001b[1;34m(self, response)\u001b[0m\n\u001b[0;32m    227\u001b[0m         alert_text \u001b[38;5;241m=\u001b[39m value[\u001b[38;5;124m\"\u001b[39m\u001b[38;5;124malert\u001b[39m\u001b[38;5;124m\"\u001b[39m]\u001b[38;5;241m.\u001b[39mget(\u001b[38;5;124m\"\u001b[39m\u001b[38;5;124mtext\u001b[39m\u001b[38;5;124m\"\u001b[39m)\n\u001b[0;32m    228\u001b[0m     \u001b[38;5;28;01mraise\u001b[39;00m exception_class(message, screen, stacktrace, alert_text)  \u001b[38;5;66;03m# type: ignore[call-arg]  # mypy is not smart enough here\u001b[39;00m\n\u001b[1;32m--> 229\u001b[0m \u001b[38;5;28;01mraise\u001b[39;00m exception_class(message, screen, stacktrace)\n",
      "\u001b[1;31mNoSuchWindowException\u001b[0m: Message: no such window: target window already closed\nfrom unknown error: web view not found\n  (Session info: chrome=117.0.5938.150)\nStacktrace:\n\tGetHandleVerifier [0x00007FF7D6A57D12+55474]\n\t(No symbol) [0x00007FF7D69C77C2]\n\t(No symbol) [0x00007FF7D687E0EB]\n\t(No symbol) [0x00007FF7D685E528]\n\t(No symbol) [0x00007FF7D68E3B77]\n\t(No symbol) [0x00007FF7D68F75BF]\n\t(No symbol) [0x00007FF7D68DEF33]\n\t(No symbol) [0x00007FF7D68B3D41]\n\t(No symbol) [0x00007FF7D68B4F84]\n\tGetHandleVerifier [0x00007FF7D6DBB762+3609346]\n\tGetHandleVerifier [0x00007FF7D6E11A80+3962400]\n\tGetHandleVerifier [0x00007FF7D6E09F0F+3930799]\n\tGetHandleVerifier [0x00007FF7D6AF3CA6+694342]\n\t(No symbol) [0x00007FF7D69D2218]\n\t(No symbol) [0x00007FF7D69CE484]\n\t(No symbol) [0x00007FF7D69CE5B2]\n\t(No symbol) [0x00007FF7D69BEE13]\n\tBaseThreadInitThunk [0x00007FF8F44B257D+29]\n\tRtlUserThreadStart [0x00007FF8F55CAA68+40]\n"
     ]
    }
   ],
   "source": [
    "#import a new library\n",
    "import requests\n",
    "\n",
    "\n",
    "#read the produced csv and iterate through the list\n",
    "with open(\"onlylinks1.csv\", 'r',encoding='utf-8') as file:\n",
    "    csvreader = csv.reader(file)  \n",
    "    #driver\n",
    "    driver = webdriver.Chrome()\n",
    "    \n",
    "    #define a counter for naming \n",
    "    i=0\n",
    "    \n",
    "    #open each link\n",
    "    for url in csvreader:       \n",
    "                \n",
    "        driver.get(url[0])\n",
    "        sleep(2)\n",
    "        \n",
    "        #click on the pdf button\n",
    "        find_pdf=driver.find_element(\"xpath\",\"/html/body/div[2]/div[3]/div[1]/div[2]/div[2]/table/tbody/tr[1]/td[2]/div[3]/div\").get_attribute('href')\n",
    "        print(find_pdf)\n",
    "\n",
    "        \n",
    "        ##########\n",
    "        \n",
    "     \n",
    "        \n",
    "        #Check if pdf exists and then download\n",
    "\n",
    "\n",
    "\n",
    "        if ('.pdf' in find_pdf):\n",
    "            i += 1\n",
    "            print(\"Downloading file: \", i)\n",
    " \n",
    "            # Get response object for link\n",
    "            response = requests.get(find_pdf)\n",
    " \n",
    "            # Write content in pdf file\n",
    "            pdf = open(\"pdf\"+str(i)+\".pdf\", 'wb')\n",
    "            pdf.write(response.content)\n",
    "            pdf.close()\n",
    "       \n",
    "    #Close the webpage\n",
    "    driver.quit()"
   ]
  },
  {
   "cell_type": "code",
   "execution_count": null,
   "id": "81c4ca8c",
   "metadata": {},
   "outputs": [],
   "source": []
  },
  {
   "cell_type": "code",
   "execution_count": null,
   "id": "7bc3c467",
   "metadata": {},
   "outputs": [],
   "source": []
  }
 ],
 "metadata": {
  "kernelspec": {
   "display_name": "Python 3 (ipykernel)",
   "language": "python",
   "name": "python3"
  },
  "language_info": {
   "codemirror_mode": {
    "name": "ipython",
    "version": 3
   },
   "file_extension": ".py",
   "mimetype": "text/x-python",
   "name": "python",
   "nbconvert_exporter": "python",
   "pygments_lexer": "ipython3",
   "version": "3.8.18"
  }
 },
 "nbformat": 4,
 "nbformat_minor": 5
}
